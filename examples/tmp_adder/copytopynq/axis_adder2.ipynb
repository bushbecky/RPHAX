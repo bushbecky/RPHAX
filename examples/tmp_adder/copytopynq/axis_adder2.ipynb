{
 "cells": [
  {
   "cell_type": "markdown",
   "id": "cec8823d",
   "metadata": {},
   "source": [
    "# AXI Stream "
   ]
  },
  {
   "cell_type": "code",
   "execution_count": 95,
   "id": "90ff3c49",
   "metadata": {},
   "outputs": [],
   "source": [
    "from pynq import Overlay\n",
    "ol_adds = Overlay(\"overlay_4/axis_adder.bit\")\n"
   ]
  },
  {
   "cell_type": "code",
   "execution_count": 96,
   "id": "5f32b75d",
   "metadata": {},
   "outputs": [],
   "source": [
    "\n",
    "from time import time\n",
    "num_data = 1000"
   ]
  },
  {
   "cell_type": "code",
   "execution_count": 97,
   "id": "fd6fdb73",
   "metadata": {},
   "outputs": [],
   "source": [
    "import numpy as np\n",
    "from pynq import allocate\n",
    "\n",
    "# xlnk = Xlnk()\n",
    "in_buffer = allocate(shape=(num_data,), dtype=np.uint32, cacheable=1)\n",
    "out_buffer0 = allocate(shape=(num_data,), dtype=np.uint32, cacheable=1)\n",
    "out_buffer1 = allocate(shape=(num_data,), dtype=np.uint32, cacheable=1)"
   ]
  },
  {
   "cell_type": "code",
   "execution_count": 98,
   "id": "4624ea21",
   "metadata": {},
   "outputs": [],
   "source": [
    "for i in range(num_data):\n",
    "    in_buffer[i] = (np.random.randint(0,15)<<4)+np.random.randint(0,15)"
   ]
  },
  {
   "cell_type": "code",
   "execution_count": 99,
   "id": "c592cd2d",
   "metadata": {},
   "outputs": [
    {
     "name": "stdout",
     "output_type": "stream",
     "text": [
      "0x2e\n",
      "0x1\n",
      "0xce\n",
      "0x81\n",
      "0x86\n",
      "0xa\n",
      "0xe5\n",
      "0x69\n",
      "0xc2\n",
      "0x28\n"
     ]
    }
   ],
   "source": [
    "for i in range(10):\n",
    "    print(hex(in_buffer[i]))"
   ]
  },
  {
   "cell_type": "code",
   "execution_count": 100,
   "id": "1635f2e3",
   "metadata": {},
   "outputs": [
    {
     "name": "stdout",
     "output_type": "stream",
     "text": [
      "0x00\n",
      "0x00\n",
      "0x00\n",
      "0x00\n",
      "0x00\n",
      "0x00\n",
      "0x00\n",
      "0x00\n",
      "0x00\n",
      "0x00\n",
      "0x00\n",
      "0x00\n",
      "0x00\n",
      "0x00\n",
      "0x00\n",
      "0x00\n",
      "0x00\n",
      "0x00\n",
      "0x00\n",
      "0x00\n"
     ]
    }
   ],
   "source": [
    "for i in range(10):\n",
    "    print('0x' + format(out_buffer0[i], '02x'))\n",
    "for i in range(10):\n",
    "    print('0x' + format(out_buffer1[i], '02x'))"
   ]
  },
  {
   "cell_type": "code",
   "execution_count": 101,
   "id": "92e54697",
   "metadata": {},
   "outputs": [],
   "source": [
    "import pynq.lib.dma\n",
    "dma_ip = ol_adds.axi_dma_0"
   ]
  },
  {
   "cell_type": "code",
   "execution_count": 102,
   "id": "2ffb3459",
   "metadata": {},
   "outputs": [],
   "source": [
    "def adds_data():\n",
    "    dma_ip.sendchannel.transfer(in_buffer)\n",
    "    dma_ip.recvchannel.transfer(out_buffer1)\n",
    "    dma_ip.sendchannel.wait()\n",
    "    dma_ip.recvchannel.wait()"
   ]
  },
  {
   "cell_type": "code",
   "execution_count": 103,
   "id": "e8f21271",
   "metadata": {},
   "outputs": [
    {
     "name": "stdout",
     "output_type": "stream",
     "text": [
      "0.006020545959472656\n"
     ]
    }
   ],
   "source": [
    "t1 = time()\n",
    "adds_data()\n",
    "t2 = time()\n",
    "t_adds = t2-t1\n",
    "print(t_adds)"
   ]
  },
  {
   "cell_type": "code",
   "execution_count": 69,
   "id": "d52aacc3",
   "metadata": {},
   "outputs": [],
   "source": [
    "ol_adds?"
   ]
  },
  {
   "cell_type": "code",
   "execution_count": 104,
   "id": "9240d1aa",
   "metadata": {},
   "outputs": [
    {
     "name": "stdout",
     "output_type": "stream",
     "text": [
      "0x10\n",
      "0x01\n",
      "0x1a\n",
      "0x09\n",
      "0x0e\n",
      "0x0a\n",
      "0x13\n",
      "0x0f\n",
      "0x0e\n",
      "0x0a\n"
     ]
    }
   ],
   "source": [
    "for i in range(10):\n",
    "    print('0x' + format(out_buffer1[i], '02x'))"
   ]
  },
  {
   "cell_type": "markdown",
   "id": "09c8affa",
   "metadata": {},
   "source": [
    "# AXI Lite"
   ]
  },
  {
   "cell_type": "code",
   "execution_count": 105,
   "id": "611ef6f1",
   "metadata": {},
   "outputs": [],
   "source": [
    "from pynq import Overlay\n",
    "\n",
    "ol_add = Overlay('overlay_4/axil_adder.bit')\n",
    "\n",
    "\n",
    "adder_ip = ol_add.axi_adder_0"
   ]
  },
  {
   "cell_type": "code",
   "execution_count": 106,
   "id": "6c2bc466",
   "metadata": {},
   "outputs": [],
   "source": [
    "def add_data():\n",
    "    for i in range(len(in_buffer)):\n",
    "        adder_ip.write(0x0, int(in_buffer[i]>>4))\n",
    "        adder_ip.write(0x4, int(in_buffer[i]))\n",
    "        out_buffer0[i] = adder_ip.read(0x8)"
   ]
  },
  {
   "cell_type": "code",
   "execution_count": 107,
   "id": "2341002c",
   "metadata": {},
   "outputs": [],
   "source": [
    "t1 = time()\n",
    "add_data()\n",
    "t2 = time()\n",
    "t_add = t2-t1"
   ]
  },
  {
   "cell_type": "markdown",
   "id": "5a7938b4",
   "metadata": {},
   "source": [
    "# Performance"
   ]
  },
  {
   "cell_type": "code",
   "execution_count": 109,
   "id": "6fae6871",
   "metadata": {},
   "outputs": [
    {
     "name": "stdout",
     "output_type": "stream",
     "text": [
      "time used for axi lite adder: 0.15281176567077637\n",
      "time used for axi stream adder: 0.006020545959472656\n"
     ]
    }
   ],
   "source": [
    "for i in range(num_data):\n",
    "    assert out_buffer0[i] == out_buffer1[i], \\\n",
    "        f'unmatched data: {out_buffer0[i]}!={out_buffer1[i]} '\\\n",
    "        f'for {i}-th input {in_buffer[i]}.'\n",
    "\n",
    "print('time used for axi lite adder: {}'.format(t_add))\n",
    "print('time used for axi stream adder: {}'.format(t_adds))\n",
    "#print('improvement')"
   ]
  },
  {
   "cell_type": "code",
   "execution_count": null,
   "id": "02a69a0c",
   "metadata": {},
   "outputs": [],
   "source": []
  }
 ],
 "metadata": {
  "kernelspec": {
   "display_name": "Python 3",
   "language": "python",
   "name": "python3"
  },
  "language_info": {
   "codemirror_mode": {
    "name": "ipython",
    "version": 3
   },
   "file_extension": ".py",
   "mimetype": "text/x-python",
   "name": "python",
   "nbconvert_exporter": "python",
   "pygments_lexer": "ipython3",
   "version": "3.8.2"
  }
 },
 "nbformat": 4,
 "nbformat_minor": 5
}
