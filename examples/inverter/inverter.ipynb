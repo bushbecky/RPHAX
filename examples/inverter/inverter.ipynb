{
 "cells": [
  {
   "cell_type": "markdown",
   "metadata": {},
   "source": [
    "# Inverter\n",
    "\n",
    "## Introduction\n",
    "\n",
    "\"Inverter\" refers to the common image processing operation of inversion. This is not to be confused with the logical inverter. \n",
    "\n",
    "## Working of the IP\n",
    "\n",
    "- The Inverter IP is an AXI Streaming IP with 1 slave and 1 master. \n",
    "- This takes in 32bit data and splits the 32 bit data into 8 bit chunks.\n",
    "- It subtracts the 1 byte from 255 to obtain the inverse of the data\n",
    "- This means that each for an input pixel (which is usually 8 bit) we get the inverse of that pixel "
   ]
  },
  {
   "cell_type": "markdown",
   "metadata": {},
   "source": [
    "## Programming the Board with the bitstream\n",
    "\n",
    "- RPHAX generates the `.bit` `.hwh` and `.tcl` files. Ensure that the three files have the same name and place them in any directory inside the `jupyter_notebooks`  directory. (You can place them anywhere in PYNQ) \n",
    "\n",
    "- We program the bitstream onto the PL(FPGA Part of the Zynq) within python using the Overlay class inside the pynq class\n",
    "- PYNQ Framework will interpret the hardware design from the `.hwh` - Hardware Handoff file and then program the Bitstream onto the FPGA\n",
    "- Previous versions of PYNQ used the `.tcl` file of the block design, but later on hardware handoff was used when the classes were upgraded"
   ]
  },
  {
   "cell_type": "code",
   "execution_count": 58,
   "metadata": {},
   "outputs": [],
   "source": [
    "from pynq import Overlay\n",
    "\n",
    "ol = Overlay(\"./overlay/design_1.bit\")\n",
    "#ol2 = Overlay(\"./overlay/dma_tutorial.bit\")"
   ]
  },
  {
   "cell_type": "markdown",
   "metadata": {},
   "source": [
    "- You get a quick overview of the contents of the overlay\n",
    "    - Hierarichy\n",
    "    - IPs\n",
    "    - Methods and attributes available"
   ]
  },
  {
   "cell_type": "code",
   "execution_count": 48,
   "metadata": {},
   "outputs": [],
   "source": [
    "ol?"
   ]
  },
  {
   "cell_type": "code",
   "execution_count": 59,
   "metadata": {},
   "outputs": [
    {
     "name": "stderr",
     "output_type": "stream",
     "text": [
      "/usr/local/share/pynq-venv/lib/python3.8/site-packages/pynq/overlay.py:681: UserWarning: Interrupt mm2s_introut not created: Could not find UIO device for interrupt pin for IRQ number 62\n",
      "  warnings.warn('Interrupt {} not created: {}'.format(\n"
     ]
    },
    {
     "data": {
      "text/plain": [
       "<pynq.pl_server.embedded_device.EmbeddedDevice at 0xaf5547a8>"
      ]
     },
     "execution_count": 59,
     "metadata": {},
     "output_type": "execute_result"
    }
   ],
   "source": [
    "# ol.axi_dma_0.device\n"
   ]
  },
  {
   "cell_type": "markdown",
   "metadata": {},
   "source": [
    "### Interacting with the AXI DMA\n",
    "\n",
    "- Note that the Processing System will be able to interact only with the DMA Directly, and our inverter cannot be \"seen\" as an IP by the Processor, since we are using a streaming IP and the processor has only AXI4 interfaces\n",
    "- Data is sent to the DMA which internally has the capabality to convert Memory Mapped interface to Streaming Interface which can be then used to connect to the inverter. \n",
    "- In the below block, we just refer the objects by shorter identifiers for convenience "
   ]
  },
  {
   "cell_type": "code",
   "execution_count": 60,
   "metadata": {},
   "outputs": [],
   "source": [
    "dma = ol.axi_dma_0\n",
    "dma_send = ol.axi_dma_0.sendchannel\n",
    "dma_recv = ol.axi_dma_0.recvchannel"
   ]
  },
  {
   "cell_type": "markdown",
   "metadata": {},
   "source": [
    "- The data is sent as through the shared buffer. `allocate` is used to send interface with the shared buffer\n",
    "Note: The Latest version of pynq (version 2.7), where as previously `Xlnk` was used for the same\n",
    "- To convert any old overlay to the latest image do the following\n",
    "    - Replace `from pynq import Xlnk` with `from pynq import allocate`\n",
    "    - Replace \n",
    "    ```\n",
    "    xlnk = Xlnk()\n",
    "    in_buffer = xlnk.cma_array(shape=(data_size,), dtype=np.uint32)\n",
    "    ```\n",
    "    with \n",
    "    ```\n",
    "    in_buffer = allocate(shape=(data_size,), dtype=np.uint32)\n",
    "    ```"
   ]
  },
  {
   "cell_type": "code",
   "execution_count": 61,
   "metadata": {},
   "outputs": [],
   "source": [
    "from pynq import allocate\n",
    "import numpy as np\n",
    "\n",
    "data_size = 1000\n",
    "input_buffer = allocate(shape=(data_size,), dtype=np.uint32)"
   ]
  },
  {
   "cell_type": "markdown",
   "metadata": {},
   "source": [
    "### Populate the data to be sent into the IP"
   ]
  },
  {
   "cell_type": "code",
   "execution_count": 62,
   "metadata": {},
   "outputs": [],
   "source": [
    "for i in range(data_size):\n",
    "    input_buffer[i] = i + 0x00000001"
   ]
  },
  {
   "cell_type": "code",
   "execution_count": 63,
   "metadata": {},
   "outputs": [
    {
     "name": "stdout",
     "output_type": "stream",
     "text": [
      "0x1\n",
      "0x2\n",
      "0x3\n",
      "0x4\n",
      "0x5\n",
      "0x6\n",
      "0x7\n",
      "0x8\n",
      "0x9\n",
      "0xa\n"
     ]
    }
   ],
   "source": [
    "for i in range(10):\n",
    "    print(hex(input_buffer[i]))"
   ]
  },
  {
   "cell_type": "markdown",
   "metadata": {},
   "source": [
    "### Send the data into the DMA"
   ]
  },
  {
   "cell_type": "code",
   "execution_count": 64,
   "metadata": {},
   "outputs": [],
   "source": [
    "dma_send.transfer(input_buffer)\n"
   ]
  },
  {
   "cell_type": "markdown",
   "metadata": {},
   "source": [
    "### Initialize the output buffer"
   ]
  },
  {
   "cell_type": "code",
   "execution_count": 65,
   "metadata": {},
   "outputs": [
    {
     "name": "stdout",
     "output_type": "stream",
     "text": [
      "0x00\n",
      "0x00\n",
      "0x00\n",
      "0x00\n",
      "0x00\n",
      "0x00\n",
      "0x00\n",
      "0x00\n",
      "0x00\n",
      "0x00\n"
     ]
    }
   ],
   "source": [
    "output_buffer = allocate(shape=(data_size,), dtype=np.uint32)\n",
    "\n",
    "for i in range(10):\n",
    "    print('0x' + format(output_buffer[i], '02x'))"
   ]
  },
  {
   "cell_type": "markdown",
   "metadata": {},
   "source": [
    "### Receive the data from the output buffer"
   ]
  },
  {
   "cell_type": "code",
   "execution_count": 66,
   "metadata": {},
   "outputs": [],
   "source": [
    "dma_recv.transfer(output_buffer)\n"
   ]
  },
  {
   "cell_type": "code",
   "execution_count": 67,
   "metadata": {
    "scrolled": true
   },
   "outputs": [
    {
     "name": "stdout",
     "output_type": "stream",
     "text": [
      "0xfffffffe\n",
      "0x00\n",
      "0x00\n",
      "0x00\n",
      "0x00\n",
      "0x00\n",
      "0x00\n",
      "0x00\n",
      "0x00\n",
      "0x00\n"
     ]
    }
   ],
   "source": [
    "for i in range(10):\n",
    "    print('0x' + format(output_buffer[i], '02x'))"
   ]
  },
  {
   "cell_type": "markdown",
   "metadata": {},
   "source": [
    "**Note:** Here, we receive only `255-first_value` as the RTL has to be modified with suiable AXIS signals to indicate end of a packet and beginning of the next packet"
   ]
  },
  {
   "cell_type": "markdown",
   "metadata": {},
   "source": [
    "## Additional references on building overlays\n",
    "    [Pynq Overlay Tutorial](https://pynq.readthedocs.io/en/latest/overlay_design_methodology/overlay_tutorial.html)"
   ]
  },
  {
   "cell_type": "code",
   "execution_count": null,
   "metadata": {},
   "outputs": [],
   "source": []
  }
 ],
 "metadata": {
  "kernelspec": {
   "display_name": "Python 3",
   "language": "python",
   "name": "python3"
  },
  "language_info": {
   "codemirror_mode": {
    "name": "ipython",
    "version": 3
   },
   "file_extension": ".py",
   "mimetype": "text/x-python",
   "name": "python",
   "nbconvert_exporter": "python",
   "pygments_lexer": "ipython3",
   "version": "3.8.2"
  }
 },
 "nbformat": 4,
 "nbformat_minor": 2
}
